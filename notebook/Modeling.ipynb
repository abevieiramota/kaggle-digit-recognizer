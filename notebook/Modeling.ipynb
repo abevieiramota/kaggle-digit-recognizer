{
 "cells": [
  {
   "cell_type": "code",
   "execution_count": 15,
   "metadata": {
    "collapsed": true
   },
   "outputs": [],
   "source": [
    "import pandas as pd\n",
    "import numpy as np\n",
    "from sklearn.grid_search import GridSearchCV\n",
    "from sklearn.metrics import classification_report\n",
    "from sklearn.preprocessing import StandardScaler\n",
    "from sklearn.pipeline import Pipeline\n",
    "from sklearn.ensemble import RandomForestClassifier"
   ]
  },
  {
   "cell_type": "code",
   "execution_count": 2,
   "metadata": {
    "collapsed": true
   },
   "outputs": [],
   "source": [
    "train = pd.read_csv('../data/train.csv')\n",
    "test = pd.read_csv('../data/test.csv')"
   ]
  },
  {
   "cell_type": "code",
   "execution_count": 6,
   "metadata": {
    "collapsed": false
   },
   "outputs": [],
   "source": [
    "rf = RandomForestClassifier()\n",
    "\n",
    "param_grid = {\"n_estimators\": [100, 300],\\\n",
    "              \"min_samples_split\": [4, 10]}\n",
    "\n",
    "cv = GridSearchCV(rf, param_grid=param_grid, cv=3, scoring='accuracy', verbose=2)"
   ]
  },
  {
   "cell_type": "code",
   "execution_count": 7,
   "metadata": {
    "collapsed": false
   },
   "outputs": [
    {
     "name": "stdout",
     "output_type": "stream",
     "text": [
      "Fitting 3 folds for each of 4 candidates, totalling 12 fits\n",
      "[CV] min_samples_split=4, n_estimators=100 ...........................\n",
      "[CV] .................. min_samples_split=4, n_estimators=100 -  24.5s\n",
      "[CV] min_samples_split=4, n_estimators=100 ...........................\n",
      "[CV] .................. min_samples_split=4, n_estimators=100 -  24.4s\n",
      "[CV] min_samples_split=4, n_estimators=100 ...........................\n",
      "[CV] .................. min_samples_split=4, n_estimators=100 -  25.4s\n",
      "[CV] min_samples_split=4, n_estimators=300 ...........................\n",
      "[CV] .................. min_samples_split=4, n_estimators=300 - 1.3min\n",
      "[CV] min_samples_split=4, n_estimators=300 ...........................\n",
      "[CV] .................. min_samples_split=4, n_estimators=300 - 1.0min\n",
      "[CV] min_samples_split=4, n_estimators=300 ...........................\n",
      "[CV] .................. min_samples_split=4, n_estimators=300 -  53.0s\n",
      "[CV] min_samples_split=10, n_estimators=100 ..........................\n",
      "[CV] ................. min_samples_split=10, n_estimators=100 -  17.4s\n",
      "[CV] min_samples_split=10, n_estimators=100 ..........................\n",
      "[CV] ................. min_samples_split=10, n_estimators=100 -  17.0s\n",
      "[CV] min_samples_split=10, n_estimators=100 ..........................\n",
      "[CV] ................. min_samples_split=10, n_estimators=100 -  16.4s\n",
      "[CV] min_samples_split=10, n_estimators=300 ..........................\n",
      "[CV] ................. min_samples_split=10, n_estimators=300 -  51.0s\n",
      "[CV] min_samples_split=10, n_estimators=300 ..........................\n",
      "[CV] ................. min_samples_split=10, n_estimators=300 -  50.1s\n",
      "[CV] min_samples_split=10, n_estimators=300 ..........................\n",
      "[CV] ................. min_samples_split=10, n_estimators=300 -  49.1s\n"
     ]
    },
    {
     "name": "stderr",
     "output_type": "stream",
     "text": [
      "[Parallel(n_jobs=1)]: Done  12 out of  12 | elapsed:  7.8min finished\n"
     ]
    },
    {
     "data": {
      "text/plain": [
       "GridSearchCV(cv=3, error_score='raise',\n",
       "       estimator=RandomForestClassifier(bootstrap=True, class_weight=None, criterion='gini',\n",
       "            max_depth=None, max_features='auto', max_leaf_nodes=None,\n",
       "            min_samples_leaf=1, min_samples_split=2,\n",
       "            min_weight_fraction_leaf=0.0, n_estimators=10, n_jobs=1,\n",
       "            oob_score=False, random_state=None, verbose=0,\n",
       "            warm_start=False),\n",
       "       fit_params={}, iid=True, n_jobs=1,\n",
       "       param_grid={'min_samples_split': [4, 10], 'n_estimators': [100, 300]},\n",
       "       pre_dispatch='2*n_jobs', refit=True, scoring='accuracy', verbose=2)"
      ]
     },
     "execution_count": 7,
     "metadata": {},
     "output_type": "execute_result"
    }
   ],
   "source": [
    "cv.fit(train.loc[:, 'pixel0':], train.loc[:, 'label'])"
   ]
  },
  {
   "cell_type": "code",
   "execution_count": 8,
   "metadata": {
    "collapsed": false
   },
   "outputs": [
    {
     "data": {
      "text/plain": [
       "{'min_samples_split': 4, 'n_estimators': 300}"
      ]
     },
     "execution_count": 8,
     "metadata": {},
     "output_type": "execute_result"
    }
   ],
   "source": [
    "cv.best_params_"
   ]
  },
  {
   "cell_type": "code",
   "execution_count": 10,
   "metadata": {
    "collapsed": false
   },
   "outputs": [
    {
     "name": "stdout",
     "output_type": "stream",
     "text": [
      "             precision    recall  f1-score   support\n",
      "\n",
      "          0       1.00      1.00      1.00      4132\n",
      "          1       1.00      1.00      1.00      4684\n",
      "          2       1.00      1.00      1.00      4177\n",
      "          3       1.00      1.00      1.00      4351\n",
      "          4       1.00      1.00      1.00      4072\n",
      "          5       1.00      1.00      1.00      3795\n",
      "          6       1.00      1.00      1.00      4137\n",
      "          7       1.00      1.00      1.00      4401\n",
      "          8       1.00      1.00      1.00      4063\n",
      "          9       1.00      1.00      1.00      4188\n",
      "\n",
      "avg / total       1.00      1.00      1.00     42000\n",
      "\n"
     ]
    }
   ],
   "source": [
    "print(classification_report(train.loc[:, 'label'],\\\n",
    "                            cv.predict(train.loc[:, 'pixel0':])))"
   ]
  },
  {
   "cell_type": "code",
   "execution_count": 12,
   "metadata": {
    "collapsed": true
   },
   "outputs": [],
   "source": [
    "prediction = cv.predict(test)"
   ]
  },
  {
   "cell_type": "code",
   "execution_count": 19,
   "metadata": {
    "collapsed": false
   },
   "outputs": [
    {
     "data": {
      "text/plain": [
       "(28000,)"
      ]
     },
     "execution_count": 19,
     "metadata": {},
     "output_type": "execute_result"
    }
   ],
   "source": [
    "prediction.shape"
   ]
  },
  {
   "cell_type": "code",
   "execution_count": 24,
   "metadata": {
    "collapsed": false
   },
   "outputs": [
    {
     "data": {
      "text/plain": [
       "array([1])"
      ]
     },
     "execution_count": 24,
     "metadata": {},
     "output_type": "execute_result"
    }
   ],
   "source": [
    "np.arange(1, 2, 1)"
   ]
  },
  {
   "cell_type": "code",
   "execution_count": 25,
   "metadata": {
    "collapsed": false
   },
   "outputs": [],
   "source": [
    "submission = pd.DataFrame({'ImageId': np.arange(1, test.shape[0] + 1, 1),\\\n",
    "                           'Label': prediction})"
   ]
  },
  {
   "cell_type": "code",
   "execution_count": 26,
   "metadata": {
    "collapsed": true
   },
   "outputs": [],
   "source": [
    "submission.to_csv('../submission/Modeling_v1.csv', index=False)"
   ]
  }
 ],
 "metadata": {
  "kernelspec": {
   "display_name": "Python 3",
   "language": "python",
   "name": "python3"
  },
  "language_info": {
   "codemirror_mode": {
    "name": "ipython",
    "version": 3
   },
   "file_extension": ".py",
   "mimetype": "text/x-python",
   "name": "python",
   "nbconvert_exporter": "python",
   "pygments_lexer": "ipython3",
   "version": "3.5.1"
  }
 },
 "nbformat": 4,
 "nbformat_minor": 0
}
