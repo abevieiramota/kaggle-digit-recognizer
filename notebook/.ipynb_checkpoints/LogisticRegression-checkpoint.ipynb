{
 "cells": [
  {
   "cell_type": "code",
   "execution_count": 1,
   "metadata": {
    "collapsed": false
   },
   "outputs": [],
   "source": [
    "import pandas as pd\n",
    "from sklearn.grid_search import GridSearchCV\n",
    "from sklearn.metrics import classification_report\n",
    "from sklearn.preprocessing import StandardScaler\n",
    "from sklearn.pipeline import Pipeline\n",
    "from sklearn.cross_validation import LeaveOneLabelOut\n",
    "from sklearn.linear_model import LogisticRegression\n",
    "from skimage.transform import rescale, resize\n",
    "from sklearn.feature_selection import SelectKBest\n",
    "\n",
    "from matplotlib import pyplot as plt\n",
    "%matplotlib inline\n",
    "\n",
    "import numpy as np"
   ]
  },
  {
   "cell_type": "code",
   "execution_count": 12,
   "metadata": {
    "collapsed": true
   },
   "outputs": [],
   "source": [
    "train = pd.read_csv('../data/train.csv')\n",
    "test = pd.read_csv('../data/test.csv')"
   ]
  },
  {
   "cell_type": "code",
   "execution_count": 8,
   "metadata": {
    "collapsed": true
   },
   "outputs": [],
   "source": [
    "X = train.loc[:, 'pixel0':].astype(np.float64)\n",
    "y = train.loc[:, 'label']"
   ]
  },
  {
   "cell_type": "code",
   "execution_count": 9,
   "metadata": {
    "collapsed": false
   },
   "outputs": [],
   "source": [
    "sk = SelectKBest(k=200)\n",
    "std = StandardScaler()\n",
    "lr = LogisticRegression(random_state=0, max_iter=20)\n",
    "\n",
    "pipe = Pipeline([('sk', sk),\n",
    "                 ('std', std),\n",
    "                 ('lr', lr)])\n",
    "\n",
    "param_grid = {'lr__penalty': ['l1', 'l2'],\n",
    "              'lr__C': [1., 10.]}\n",
    "\n",
    "cv = GridSearchCV(pipe, param_grid=param_grid, scoring='accuracy')"
   ]
  },
  {
   "cell_type": "code",
   "execution_count": 10,
   "metadata": {
    "collapsed": false
   },
   "outputs": [
    {
     "name": "stderr",
     "output_type": "stream",
     "text": [
      "/home/abevieiramota/anaconda3/lib/python3.5/site-packages/sklearn/feature_selection/univariate_selection.py:113: UserWarning: Features [  0   1   2   3   4   5   6   7   8   9  10  11  16  17  18  19  20  21\n",
      "  22  23  24  25  26  27  28  29  30  31  52  53  54  55  56  57  82  83\n",
      "  84  85 110 111 112 139 140 141 167 168 196 224 392 420 421 448 476 532\n",
      " 560 588 616 644 645 671 672 673 698 699 700 701 725 726 727 728 729 730\n",
      " 731 754 755 756 757 758 759 760 761 780 781 782 783] are constant.\n",
      "  UserWarning)\n",
      "/home/abevieiramota/anaconda3/lib/python3.5/site-packages/sklearn/feature_selection/univariate_selection.py:113: UserWarning: Features [  0   1   2   3   4   5   6   7   8   9  10  11  12  13  14  15  16  17\n",
      "  18  19  20  21  22  23  24  25  26  27  28  29  30  31  52  53  54  55\n",
      "  56  57  58  82  83  84  85 111 112 113 139 140 141 168 196 336 364 392\n",
      " 420 421 448 476 532 560 615 643 644 645 671 672 673 699 700 701 727 728\n",
      " 729 730 731 754 755 756 757 758 759 760 780 781 782 783] are constant.\n",
      "  UserWarning)\n",
      "/home/abevieiramota/anaconda3/lib/python3.5/site-packages/sklearn/feature_selection/univariate_selection.py:113: UserWarning: Features [  0   1   2   3   4   5   6   7   8   9  10  11  16  17  18  19  20  21\n",
      "  22  23  24  25  26  27  28  29  30  31  32  33  52  53  54  55  56  57\n",
      "  59  82  83  84  85 111 112 139 140 141 168 169 196 392 393 420 421 448\n",
      " 476 504 532 560 587 644 645 671 672 673 699 700 701 727 728 729 730 731\n",
      " 753 754 755 756 757 758 759 760 779 780 781 782 783] are constant.\n",
      "  UserWarning)\n",
      "/home/abevieiramota/anaconda3/lib/python3.5/site-packages/sklearn/feature_selection/univariate_selection.py:113: UserWarning: Features [  0   1   2   3   4   5   6   7   8   9  10  11  16  17  18  19  20  21\n",
      "  22  23  24  25  26  27  28  29  30  31  52  53  54  55  56  57  82  83\n",
      "  84  85 110 111 112 139 140 141 167 168 196 224 392 420 421 448 476 532\n",
      " 560 588 616 644 645 671 672 673 698 699 700 701 725 726 727 728 729 730\n",
      " 731 754 755 756 757 758 759 760 761 780 781 782 783] are constant.\n",
      "  UserWarning)\n",
      "/home/abevieiramota/anaconda3/lib/python3.5/site-packages/sklearn/feature_selection/univariate_selection.py:113: UserWarning: Features [  0   1   2   3   4   5   6   7   8   9  10  11  12  13  14  15  16  17\n",
      "  18  19  20  21  22  23  24  25  26  27  28  29  30  31  52  53  54  55\n",
      "  56  57  58  82  83  84  85 111 112 113 139 140 141 168 196 336 364 392\n",
      " 420 421 448 476 532 560 615 643 644 645 671 672 673 699 700 701 727 728\n",
      " 729 730 731 754 755 756 757 758 759 760 780 781 782 783] are constant.\n",
      "  UserWarning)\n",
      "/home/abevieiramota/anaconda3/lib/python3.5/site-packages/sklearn/feature_selection/univariate_selection.py:113: UserWarning: Features [  0   1   2   3   4   5   6   7   8   9  10  11  16  17  18  19  20  21\n",
      "  22  23  24  25  26  27  28  29  30  31  32  33  52  53  54  55  56  57\n",
      "  59  82  83  84  85 111 112 139 140 141 168 169 196 392 393 420 421 448\n",
      " 476 504 532 560 587 644 645 671 672 673 699 700 701 727 728 729 730 731\n",
      " 753 754 755 756 757 758 759 760 779 780 781 782 783] are constant.\n",
      "  UserWarning)\n",
      "/home/abevieiramota/anaconda3/lib/python3.5/site-packages/sklearn/feature_selection/univariate_selection.py:113: UserWarning: Features [  0   1   2   3   4   5   6   7   8   9  10  11  16  17  18  19  20  21\n",
      "  22  23  24  25  26  27  28  29  30  31  52  53  54  55  56  57  82  83\n",
      "  84  85 110 111 112 139 140 141 167 168 196 224 392 420 421 448 476 532\n",
      " 560 588 616 644 645 671 672 673 698 699 700 701 725 726 727 728 729 730\n",
      " 731 754 755 756 757 758 759 760 761 780 781 782 783] are constant.\n",
      "  UserWarning)\n",
      "/home/abevieiramota/anaconda3/lib/python3.5/site-packages/sklearn/feature_selection/univariate_selection.py:113: UserWarning: Features [  0   1   2   3   4   5   6   7   8   9  10  11  12  13  14  15  16  17\n",
      "  18  19  20  21  22  23  24  25  26  27  28  29  30  31  52  53  54  55\n",
      "  56  57  58  82  83  84  85 111 112 113 139 140 141 168 196 336 364 392\n",
      " 420 421 448 476 532 560 615 643 644 645 671 672 673 699 700 701 727 728\n",
      " 729 730 731 754 755 756 757 758 759 760 780 781 782 783] are constant.\n",
      "  UserWarning)\n",
      "/home/abevieiramota/anaconda3/lib/python3.5/site-packages/sklearn/feature_selection/univariate_selection.py:113: UserWarning: Features [  0   1   2   3   4   5   6   7   8   9  10  11  16  17  18  19  20  21\n",
      "  22  23  24  25  26  27  28  29  30  31  32  33  52  53  54  55  56  57\n",
      "  59  82  83  84  85 111 112 139 140 141 168 169 196 392 393 420 421 448\n",
      " 476 504 532 560 587 644 645 671 672 673 699 700 701 727 728 729 730 731\n",
      " 753 754 755 756 757 758 759 760 779 780 781 782 783] are constant.\n",
      "  UserWarning)\n",
      "/home/abevieiramota/anaconda3/lib/python3.5/site-packages/sklearn/feature_selection/univariate_selection.py:113: UserWarning: Features [  0   1   2   3   4   5   6   7   8   9  10  11  16  17  18  19  20  21\n",
      "  22  23  24  25  26  27  28  29  30  31  52  53  54  55  56  57  82  83\n",
      "  84  85 110 111 112 139 140 141 167 168 196 224 392 420 421 448 476 532\n",
      " 560 588 616 644 645 671 672 673 698 699 700 701 725 726 727 728 729 730\n",
      " 731 754 755 756 757 758 759 760 761 780 781 782 783] are constant.\n",
      "  UserWarning)\n",
      "/home/abevieiramota/anaconda3/lib/python3.5/site-packages/sklearn/feature_selection/univariate_selection.py:113: UserWarning: Features [  0   1   2   3   4   5   6   7   8   9  10  11  12  13  14  15  16  17\n",
      "  18  19  20  21  22  23  24  25  26  27  28  29  30  31  52  53  54  55\n",
      "  56  57  58  82  83  84  85 111 112 113 139 140 141 168 196 336 364 392\n",
      " 420 421 448 476 532 560 615 643 644 645 671 672 673 699 700 701 727 728\n",
      " 729 730 731 754 755 756 757 758 759 760 780 781 782 783] are constant.\n",
      "  UserWarning)\n",
      "/home/abevieiramota/anaconda3/lib/python3.5/site-packages/sklearn/feature_selection/univariate_selection.py:113: UserWarning: Features [  0   1   2   3   4   5   6   7   8   9  10  11  16  17  18  19  20  21\n",
      "  22  23  24  25  26  27  28  29  30  31  32  33  52  53  54  55  56  57\n",
      "  59  82  83  84  85 111 112 139 140 141 168 169 196 392 393 420 421 448\n",
      " 476 504 532 560 587 644 645 671 672 673 699 700 701 727 728 729 730 731\n",
      " 753 754 755 756 757 758 759 760 779 780 781 782 783] are constant.\n",
      "  UserWarning)\n",
      "/home/abevieiramota/anaconda3/lib/python3.5/site-packages/sklearn/feature_selection/univariate_selection.py:113: UserWarning: Features [  0   1   2   3   4   5   6   7   8   9  10  11  16  17  18  19  20  21\n",
      "  22  23  24  25  26  27  28  29  30  31  52  53  54  55  56  57  82  83\n",
      "  84  85 111 112 139 140 141 168 196 392 420 421 448 476 532 560 644 645\n",
      " 671 672 673 699 700 701 727 728 729 730 731 754 755 756 757 758 759 760\n",
      " 780 781 782 783] are constant.\n",
      "  UserWarning)\n"
     ]
    },
    {
     "data": {
      "text/plain": [
       "GridSearchCV(cv=None, error_score='raise',\n",
       "       estimator=Pipeline(steps=[('sk', SelectKBest(k=200, score_func=<function f_classif at 0x7fb51f766598>)), ('std', StandardScaler(copy=True, with_mean=True, with_std=True)), ('lr', LogisticRegression(C=1.0, class_weight=None, dual=False, fit_intercept=True,\n",
       "          intercept_scaling=1, max_iter=20, multi_class='ovr', n_jobs=1,\n",
       "          penalty='l2', random_state=0, solver='liblinear', tol=0.0001,\n",
       "          verbose=0, warm_start=False))]),\n",
       "       fit_params={}, iid=True, n_jobs=1,\n",
       "       param_grid={'lr__C': [1.0, 10.0], 'lr__penalty': ['l1', 'l2']},\n",
       "       pre_dispatch='2*n_jobs', refit=True, scoring='accuracy', verbose=0)"
      ]
     },
     "execution_count": 10,
     "metadata": {},
     "output_type": "execute_result"
    }
   ],
   "source": [
    "cv.fit(X, y)"
   ]
  },
  {
   "cell_type": "code",
   "execution_count": 11,
   "metadata": {
    "collapsed": false
   },
   "outputs": [
    {
     "data": {
      "text/plain": [
       "0.88807142857142862"
      ]
     },
     "execution_count": 11,
     "metadata": {},
     "output_type": "execute_result"
    }
   ],
   "source": [
    "cv.best_score_"
   ]
  },
  {
   "cell_type": "code",
   "execution_count": 16,
   "metadata": {
    "collapsed": false
   },
   "outputs": [],
   "source": [
    "prediction = cv.predict(test.loc[:, 'pixel0':].astype(np.float64))"
   ]
  },
  {
   "cell_type": "code",
   "execution_count": 17,
   "metadata": {
    "collapsed": true
   },
   "outputs": [],
   "source": [
    "submission = pd.DataFrame({'Label': prediction, 'ImageId': np.arange(1, test.shape[0] + 1, 1)})"
   ]
  },
  {
   "cell_type": "code",
   "execution_count": 18,
   "metadata": {
    "collapsed": true
   },
   "outputs": [],
   "source": [
    "submission.to_csv('../submission/200KBestStdLogReg.csv', index=False)"
   ]
  },
  {
   "cell_type": "code",
   "execution_count": null,
   "metadata": {
    "collapsed": true
   },
   "outputs": [],
   "source": []
  }
 ],
 "metadata": {
  "kernelspec": {
   "display_name": "Python 3",
   "language": "python",
   "name": "python3"
  },
  "language_info": {
   "codemirror_mode": {
    "name": "ipython",
    "version": 3
   },
   "file_extension": ".py",
   "mimetype": "text/x-python",
   "name": "python",
   "nbconvert_exporter": "python",
   "pygments_lexer": "ipython3",
   "version": "3.5.1"
  }
 },
 "nbformat": 4,
 "nbformat_minor": 0
}
